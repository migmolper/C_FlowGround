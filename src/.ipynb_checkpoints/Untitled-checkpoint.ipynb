{
 "cells": [
  {
   "cell_type": "code",
   "execution_count": 4,
   "metadata": {},
   "outputs": [],
   "source": [
    "# Cargo las librerias\n",
    "import numpy as np\n",
    "import matplotlib.pyplot as plt\n",
    "import pandas as pd\n",
    "from matplotlib import animation\n",
    "from scipy.interpolate import griddata\n",
    "from mpl_toolkits.mplot3d.axes3d import Axes3D"
   ]
  },
  {
   "cell_type": "code",
   "execution_count": 6,
   "metadata": {},
   "outputs": [],
   "source": [
    "# Cargo la malla\n",
    "geom = pd.read_csv(\"./RESULTADOS/centers.rep\", sep=\"\\t\", header=None)\n",
    "x = geom[0].values\n",
    "y = geom[1].values\n",
    "x_aux = np.linspace(min(x), max(x), 50)\n",
    "y_aux = np.linspace(min(y), max(y), 50)\n",
    "\n",
    "X,Y = np.meshgrid(x_aux, y_aux)"
   ]
  },
  {
   "cell_type": "code",
   "execution_count": 51,
   "metadata": {},
   "outputs": [
    {
     "name": "stderr",
     "output_type": "stream",
     "text": [
      "Traceback (most recent call last):\n",
      "  File \"/home/miguel/anaconda3/lib/python3.6/site-packages/matplotlib/cbook/__init__.py\", line 388, in process\n",
      "    proxy(*args, **kwargs)\n",
      "  File \"/home/miguel/anaconda3/lib/python3.6/site-packages/matplotlib/cbook/__init__.py\", line 228, in __call__\n",
      "    return mtd(*args, **kwargs)\n",
      "  File \"/home/miguel/anaconda3/lib/python3.6/site-packages/matplotlib/animation.py\", line 1081, in _start\n",
      "    self._init_draw()\n",
      "  File \"/home/miguel/anaconda3/lib/python3.6/site-packages/matplotlib/animation.py\", line 1618, in _init_draw\n",
      "    artist.set_visible(False)\n",
      "AttributeError: 'QuadContourSet' object has no attribute 'set_visible'\n"
     ]
    },
    {
     "data": {
      "image/png": "[encoded data removed]",
      "text/plain": [
       "<matplotlib.figure.Figure at 0x7fe726fc4898>"
      ]
     },
     "metadata": {},
     "output_type": "display_data"
    }
   ],
   "source": [
    "# Represento la figura\n",
    "ims = []\n",
    "for i in range(0,10):\n",
    "    path =\"./RESULTADOS/results_%i.res\" % i\n",
    "    frame = pd.read_csv(path,header=None)\n",
    "    P = frame[0].values\n",
    "#for i, method in enumerate(('nearest', 'linear', 'cubic')):\n",
    "    \n",
    "    Pi = griddata((x, y), P, (X, Y), method='cubic')\n",
    "    im = plt.contourf(X, Y, Pi, 10)\n",
    "                            \n",
    "    ims.append([im])\n",
    "\n",
    "# Animo las figuras\n",
    "ani = animation.ArtistAnimation(fig, ims,interval=50, blit=True,\n",
    "                                repeat_delay=1000)\n",
    "plt.show()\n",
    "#ani.save('Flow.mp4', fps = 10)"
   ]
  }
 ],
 "metadata": {
  "kernelspec": {
   "display_name": "Python 3",
   "language": "python",
   "name": "python3"
  },
  "language_info": {
   "codemirror_mode": {
    "name": "ipython",
    "version": 3
   },
   "file_extension": ".py",
   "mimetype": "text/x-python",
   "name": "python",
   "nbconvert_exporter": "python",
   "pygments_lexer": "ipython3",
   "version": "3.6.4"
  }
 },
 "nbformat": 4,
 "nbformat_minor": 2
}
